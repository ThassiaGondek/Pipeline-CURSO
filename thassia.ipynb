{
  "nbformat": 4,
  "nbformat_minor": 0,
  "metadata": {
    "colab": {
      "provenance": [],
      "authorship_tag": "ABX9TyOoXseACdc0I/xESw6ZBnrJ",
      "include_colab_link": true
    },
    "kernelspec": {
      "name": "python3",
      "display_name": "Python 3"
    },
    "language_info": {
      "name": "python"
    }
  },
  "cells": [
    {
      "cell_type": "markdown",
      "metadata": {
        "id": "view-in-github",
        "colab_type": "text"
      },
      "source": [
        "<a href=\"https://colab.research.google.com/github/ThassiaGondek/Pipeline-CURSO/blob/main/thassia.ipynb\" target=\"_parent\"><img src=\"https://colab.research.google.com/assets/colab-badge.svg\" alt=\"Open In Colab\"/></a>"
      ]
    },
    {
      "cell_type": "markdown",
      "source": [
        "Extrair CSV"
      ],
      "metadata": {
        "id": "4wmq_HJUc9qa"
      }
    },
    {
      "cell_type": "code",
      "execution_count": 12,
      "metadata": {
        "colab": {
          "base_uri": "https://localhost:8080/"
        },
        "id": "Vf_AIx-hc65E",
        "outputId": "736538f7-24b0-4791-aff0-78a7ddbfbdff"
      },
      "outputs": [
        {
          "output_type": "stream",
          "name": "stdout",
          "text": [
            "[2117, 2118, 2119]\n"
          ]
        }
      ],
      "source": [
        "import pandas as pd\n",
        "\n",
        "df = pd.read_csv('/content/Devweek.csv')\n",
        "user_ids = df['UserID'].tolist()\n",
        "print(user_ids)"
      ]
    },
    {
      "cell_type": "markdown",
      "source": [
        "Obter os dados da API"
      ],
      "metadata": {
        "id": "WdfKp0XeeCYY"
      }
    },
    {
      "cell_type": "code",
      "source": [
        "import requests\n",
        "import json\n",
        "\n",
        "def get_user(id):\n",
        "  site= \"https://sdw-2023-prd.up.railway.app\"\n",
        "  response = requests.get(f\"{site}/users/{id}\")\n",
        "  return response.json() if response.status_code == 200 else None\n",
        "\n",
        "users = [user for id in user_ids if(user := get_user(id)) is not None]\n",
        "print(json.dumps(users, indent=2))\n"
      ],
      "metadata": {
        "colab": {
          "base_uri": "https://localhost:8080/"
        },
        "id": "T-tHtT-leEqs",
        "outputId": "180dd038-124c-47ce-c448-260bc5cd4f5b"
      },
      "execution_count": 14,
      "outputs": [
        {
          "output_type": "stream",
          "name": "stdout",
          "text": [
            "[\n",
            "  {\n",
            "    \"id\": 2117,\n",
            "    \"name\": \"fulano\",\n",
            "    \"account\": {\n",
            "      \"id\": 2223,\n",
            "      \"number\": \"22222\",\n",
            "      \"agency\": \"2222\",\n",
            "      \"balance\": 500.0,\n",
            "      \"limit\": 500.0\n",
            "    },\n",
            "    \"card\": {\n",
            "      \"id\": 2048,\n",
            "      \"number\": \"12323 1232 123215 12\",\n",
            "      \"limit\": 0.0\n",
            "    },\n",
            "    \"features\": [\n",
            "      {\n",
            "        \"id\": 709,\n",
            "        \"icon\": \"teste\",\n",
            "        \"description\": \"blabla\"\n",
            "      }\n",
            "    ],\n",
            "    \"news\": [\n",
            "      {\n",
            "        \"id\": 3881,\n",
            "        \"icon\": \"batata\",\n",
            "        \"description\": \"batata frita\"\n",
            "      }\n",
            "    ]\n",
            "  },\n",
            "  {\n",
            "    \"id\": 2118,\n",
            "    \"name\": \"BARBIE\",\n",
            "    \"account\": {\n",
            "      \"id\": 2224,\n",
            "      \"number\": \"7777\",\n",
            "      \"agency\": \"7777\",\n",
            "      \"balance\": 7000.0,\n",
            "      \"limit\": 700.0\n",
            "    },\n",
            "    \"card\": {\n",
            "      \"id\": 2049,\n",
            "      \"number\": \"7845 3456456 47576\",\n",
            "      \"limit\": 0.0\n",
            "    },\n",
            "    \"features\": [\n",
            "      {\n",
            "        \"id\": 710,\n",
            "        \"icon\": \"rosa\",\n",
            "        \"description\": \"rosa\"\n",
            "      }\n",
            "    ],\n",
            "    \"news\": [\n",
            "      {\n",
            "        \"id\": 3882,\n",
            "        \"icon\": \"rosa\",\n",
            "        \"description\": \"rosa\"\n",
            "      }\n",
            "    ]\n",
            "  },\n",
            "  {\n",
            "    \"id\": 2119,\n",
            "    \"name\": \"joao joao\",\n",
            "    \"account\": {\n",
            "      \"id\": 2225,\n",
            "      \"number\": \"6666\",\n",
            "      \"agency\": \"6666\",\n",
            "      \"balance\": 6666.0,\n",
            "      \"limit\": 666.0\n",
            "    },\n",
            "    \"card\": {\n",
            "      \"id\": 2050,\n",
            "      \"number\": \"666666666666666\",\n",
            "      \"limit\": 0.0\n",
            "    },\n",
            "    \"features\": [\n",
            "      {\n",
            "        \"id\": 711,\n",
            "        \"icon\": \"cao\",\n",
            "        \"description\": \"cao\"\n",
            "      }\n",
            "    ],\n",
            "    \"news\": [\n",
            "      {\n",
            "        \"id\": 3883,\n",
            "        \"icon\": \"cao\",\n",
            "        \"description\": \"cao\"\n",
            "      }\n",
            "    ]\n",
            "  }\n",
            "]\n"
          ]
        }
      ]
    },
    {
      "cell_type": "markdown",
      "source": [
        "Transformar"
      ],
      "metadata": {
        "id": "kqiVzkkfi0uN"
      }
    },
    {
      "cell_type": "code",
      "source": [
        "for user in users:\n",
        "  user['news'].append({\n",
        "      \"icon\": \"https://digitalinnovationone.github.io/santander-dev-week-2023-api/icons/credit.svg\",\n",
        "      \"description\": \"O Santander tem soluções de crédito sob medida pra você. Confira abaixo as opcoes!\"\n",
        "  })\n",
        "\n"
      ],
      "metadata": {
        "id": "04-k0RRultg_"
      },
      "execution_count": 39,
      "outputs": []
    },
    {
      "cell_type": "markdown",
      "source": [
        "Load"
      ],
      "metadata": {
        "id": "bX3TRRIYpWz-"
      }
    },
    {
      "cell_type": "code",
      "source": [
        "def update_user(user):\n",
        "  site= \"https://sdw-2023-prd.up.railway.app\"\n",
        "  response = requests.put(f\"{site}/users/{user['id']}\",json=user)\n",
        "  return True if response.status_code == 200 else False\n",
        "\n",
        "for user in users:\n",
        "  sucess = update_user(user)\n",
        "  print(f\"User{user['name']} updated?{sucess}\")"
      ],
      "metadata": {
        "colab": {
          "base_uri": "https://localhost:8080/"
        },
        "id": "K8NOw-2fpXwp",
        "outputId": "f811ead4-fb2b-4711-9cc5-327da6166b44"
      },
      "execution_count": 40,
      "outputs": [
        {
          "output_type": "stream",
          "name": "stdout",
          "text": [
            "Userfulano updated?True\n",
            "UserBARBIE updated?True\n",
            "Userjoao joao updated?True\n"
          ]
        }
      ]
    }
  ]
}